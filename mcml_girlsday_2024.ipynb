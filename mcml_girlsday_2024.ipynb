{
  "nbformat": 4,
  "nbformat_minor": 0,
  "metadata": {
    "colab": {
      "provenance": [],
      "collapsed_sections": [
        "BxfGHDQUJiaO",
        "AlXMHxlA6S9m"
      ],
      "include_colab_link": true
    },
    "kernelspec": {
      "name": "python3",
      "display_name": "Python 3"
    },
    "language_info": {
      "name": "python"
    }
  },
  "cells": [
    {
      "cell_type": "markdown",
      "metadata": {
        "id": "view-in-github",
        "colab_type": "text"
      },
      "source": [
        "<a href=\"https://colab.research.google.com/github/claravetter/mcml_girlsday_2024/blob/main/mcml_girlsday_2024.ipynb\" target=\"_parent\"><img src=\"https://colab.research.google.com/assets/colab-badge.svg\" alt=\"Open In Colab\"/></a>"
      ]
    },
    {
      "cell_type": "markdown",
      "source": [
        "# MCML Girls Day 2024\n",
        "\n",
        "\n"
      ],
      "metadata": {
        "id": "XhksXigx8sgJ"
      }
    },
    {
      "cell_type": "markdown",
      "source": [
        "## 1. Einführung in Python\n",
        "\n",
        "Python ist eine Programmiersprache, mit der man viele verschiedene Aufgaben bearbeiten kann. Wir werden heute mit einem Notebook mit mehreren Zellen arbeiten. In der ersten Zelle müssen wir erst ein paar vorprogrammierte Teile *importieren*, um uns den Rest des Workshops einfacher zu machen. Um Eine Zelle auszuführen, kannst du auf *Play* (also den Kreis mit dem Dreieckk drin) drücken. Probier das doch einfach mal für die erste Zelle aus.\n"
      ],
      "metadata": {
        "id": "qSO5Ld9GtOdS"
      }
    },
    {
      "cell_type": "code",
      "source": [
        "import numpy as np\n",
        "import pandas as pd\n",
        "import matplotlib.pyplot as plt\n",
        "import seaborn as sns\n",
        "from sklearn.model_selection import train_test_split\n",
        "from sklearn.datasets import load_breast_cancer\n",
        "from sklearn.tree import DecisionTreeClassifier, plot_tree\n",
        "from sklearn.ensemble import RandomForestClassifier\n",
        "from sklearn.linear_model import LogisticRegression\n",
        "from sklearn.preprocessing import StandardScaler\n",
        "from sklearn.metrics import accuracy_score, classification_report, confusion_matrix, ConfusionMatrixDisplay\n",
        "print(\"Super alle wichtigen Imports sind gemacht\")"
      ],
      "metadata": {
        "id": "2CUgSZJnwC_c"
      },
      "execution_count": null,
      "outputs": []
    },
    {
      "cell_type": "markdown",
      "source": [
        "### Rechnen\n",
        "\n",
        "Du kannst mit Python Berechungen, wie mit einem Taschenrechner ausführen, z.B. '2 + 3' rechnen.\n",
        "\n",
        "Probiere gerne andere, schwierigere Rechnungen aus!"
      ],
      "metadata": {
        "id": "48MNBC2H68m7"
      }
    },
    {
      "cell_type": "code",
      "execution_count": null,
      "metadata": {
        "id": "WV54BEwf7fNU"
      },
      "outputs": [],
      "source": [
        "# Wir addieren hier 2 + 3\n",
        "2 + 3"
      ]
    },
    {
      "cell_type": "markdown",
      "source": [
        "Kannst du auch schwierige Rechnungen rechnen: Probier doch mal '10-5' und '8+2' aus"
      ],
      "metadata": {
        "id": "TcdpSJZs7exN"
      }
    },
    {
      "cell_type": "code",
      "source": [
        "# Probiere hier 10-5 und 8+2 aus"
      ],
      "metadata": {
        "id": "zI7r_UYG7u39"
      },
      "execution_count": 4,
      "outputs": []
    },
    {
      "cell_type": "markdown",
      "source": [
        "Super! Wenn wir jetzt diese Berechnungen gemacht haben wollen wir sie speichern um sie später wieder benutzen zu können. Dafür können wir sogenannte *Variablen* verwenden. Wir können zum Beispiel die Numemr '2' in einer Variable *a* speichern:"
      ],
      "metadata": {
        "id": "0GjtcfbI70rn"
      }
    },
    {
      "cell_type": "code",
      "source": [
        "a = 2"
      ],
      "metadata": {
        "id": "y0R66YpU8RZV"
      },
      "execution_count": 5,
      "outputs": []
    },
    {
      "cell_type": "markdown",
      "source": [
        "Um zu sehen was sich jetzt in unser Variable a befindent können wir uns den Wert der in der Variable gespeichert ist mit *print* ausgeben lassen:"
      ],
      "metadata": {
        "id": "SHRSRwBt8Tzo"
      }
    },
    {
      "cell_type": "code",
      "source": [
        "print(a)"
      ],
      "metadata": {
        "id": "EB9FDRlj8fTJ"
      },
      "execution_count": null,
      "outputs": []
    },
    {
      "cell_type": "markdown",
      "source": [
        "Kannst du deine Ergebnisse die Zahlen '3' und '4'  in zwei Variablen *b* und *c* speichern und sie dir dann ausgeben lassen?"
      ],
      "metadata": {
        "id": "yOzVlbRo8ho4"
      }
    },
    {
      "cell_type": "code",
      "source": [
        "# speichere die Zahlen 3 und 4 in jeweils eine Variable b und eine Variable c"
      ],
      "metadata": {
        "id": "qQFnrsLz8rU8"
      },
      "execution_count": 7,
      "outputs": []
    },
    {
      "cell_type": "markdown",
      "source": [
        "Super! Wir können diese Variablen jetzt verwenden um berechnen durchzuführen, z.B. '2+3' ist das selbe wie *a+b* da ja in Variable *a* die Zahl *2* und in Variable *b* die Zahl *3* gespeichert ist. Probiere doch mal aus ob du auch 5 erhältst wenn du a und b addierst:"
      ],
      "metadata": {
        "id": "4_yo374z9Hrb"
      }
    },
    {
      "cell_type": "code",
      "source": [
        "# Addiere hier a und b."
      ],
      "metadata": {
        "id": "xhnG0pGi9BV_"
      },
      "execution_count": 8,
      "outputs": []
    },
    {
      "cell_type": "markdown",
      "source": [
        "Super! Zum Schluss wollen wir noch das Maximum, das Minimum un den Mittelwert von 3 Zahlen berechen. Um die 3 Zahlen zusammen verwenden zu können, speichern wir sie in eine Liste. Eine Liste erkennt man an den ekigen Klammern, z.B. [1,2,3] ist eine Liste, die die Zahlen 1,2 und 3 enthält. Um jetzt den Mittelwert zu berechnen, verwenden wir *np.mean()*."
      ],
      "metadata": {
        "id": "4SZMZIlX9oo-"
      }
    },
    {
      "cell_type": "code",
      "source": [
        "np.max([1,2,3])\n",
        "np.min([1,2,3])\n",
        "np.mean([1,2,3])"
      ],
      "metadata": {
        "id": "dtE4TWPgl5ir"
      },
      "execution_count": null,
      "outputs": []
    },
    {
      "cell_type": "markdown",
      "source": [
        "Kannst du das Maximum, das Minimum und den Mittelwert von den Zahlen 4,2 und 6 berechen?"
      ],
      "metadata": {
        "id": "yjbvLzRYl5LJ"
      }
    },
    {
      "cell_type": "code",
      "source": [
        "# Berechne hier das Maximum, das Minimum und den Mittelwert von 4,2 und 6"
      ],
      "metadata": {
        "id": "_RM0y4l1miEN"
      },
      "execution_count": 10,
      "outputs": []
    },
    {
      "cell_type": "markdown",
      "source": [
        "Super jetzt hast du die wichtigsten Basics schon gelernt!"
      ],
      "metadata": {
        "id": "oDnLRE45mpg6"
      }
    },
    {
      "cell_type": "markdown",
      "source": [
        "**Stop! Sehr gut, du hast den ersten Teil erfolgreich beendet. Jetzt gehts erstmal mit ein paar Folien weiter.**\n",
        "\n",
        "![images.png](data:image/png;base64,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)"
      ],
      "metadata": {
        "id": "9kMjbg4wIsaz"
      }
    },
    {
      "cell_type": "markdown",
      "source": [
        "## 2. Brustkrebs Diagnose mit Hilfe von KI"
      ],
      "metadata": {
        "id": "KrG2UUG62C1V"
      }
    },
    {
      "cell_type": "markdown",
      "source": [
        "### Brustkrebs-Daten"
      ],
      "metadata": {
        "id": "uKJ0HLoguHJN"
      }
    },
    {
      "cell_type": "markdown",
      "source": [
        "Jetzt kommen wir zum spannenderen Teil unseres Workshops: Dem Brustkrebst Datensatz. Hierfür laden wir erst den Datensatz. Führe dazu die Zelle unten aus."
      ],
      "metadata": {
        "id": "JiUs2zzum0vo"
      }
    },
    {
      "cell_type": "code",
      "source": [
        "breastcancer_data = load_breast_cancer(return_X_y=True, as_frame = True)\n",
        "feature = breastcancer_data[0]\n",
        "diagnosen = breastcancer_data[1]"
      ],
      "metadata": {
        "id": "5_f1pPvtvUaT"
      },
      "execution_count": 11,
      "outputs": []
    },
    {
      "cell_type": "markdown",
      "source": [
        "Schauen wir uns die Daten doch mal genauer an. Führe dazu die Zelle unten aus:\n",
        "Kannst du mit der Ausgabe diese 3 Fragen beantworten:\n",
        "- Wie viele Instanzen (PatientInnen) sind in dem Datensatz enthalten?\n",
        "- Wie viele Eigenschaften sind für jede PatientIn in dem Datensatz aufgeführt? Was beschreiben Sie?\n",
        "- Wie viele PatientInnen haben einen einen gutartigen und einen bösartigen Tumor?"
      ],
      "metadata": {
        "id": "bD_SF3k7nMM1"
      }
    },
    {
      "cell_type": "code",
      "source": [
        "breastcancer_beschreibung = load_breast_cancer()\n",
        "beschreibung = breastcancer_beschreibung.DESCR\n",
        "print(beschreibung)"
      ],
      "metadata": {
        "id": "6bdKoFf7Js5T"
      },
      "execution_count": null,
      "outputs": []
    },
    {
      "cell_type": "markdown",
      "source": [
        "Abhängig von den Zelleigenschaften (Features), wird eine Diagnose gestellt. Entweder für einen bösartigen oder einen gutartigen Tumor. Die Diagnose wird hier durch 0 oder 1 dargestellt:"
      ],
      "metadata": {
        "id": "ffh3Rby_o0B0"
      }
    },
    {
      "cell_type": "code",
      "source": [
        "list(np.unique(diagnosen)) #  0 = bösartig, 1 = gutartig"
      ],
      "metadata": {
        "id": "NYrJVLh_KLfP"
      },
      "execution_count": null,
      "outputs": []
    },
    {
      "cell_type": "markdown",
      "source": [
        "Oben haben wir schon aus der Ausgabe der Beschreibung die Anzahl der Patientinnen und Anzahl der gutartigen und bösartigen Tumore gesucht. Hast du richtig gelegen? Wir können die Anzahl leicht auch in den Daten überprüfen:"
      ],
      "metadata": {
        "id": "y_dCdKdupw_Z"
      }
    },
    {
      "cell_type": "code",
      "source": [
        "# wie viele Patientendaten haben wir?\n",
        "anzahl_patienten = len(diagnosen)\n",
        "\n",
        "# wie viele Patienten haben einen bösartigen Tumor? Wie viele einen gutartigen?\n",
        "# Wenn das diagnosis = 0 ist, bedeutet das, dass diese Patientin einen\n",
        "# bösartigen Tumor hat, wenn diagnosis = 1, dann ist der Tumor dieser\n",
        "# Patientin gutartig\n",
        "\n",
        "anzahl_bösartig = np.sum(diagnosen == 0)\n",
        "anzahl_gutartig = np.sum(diagnosen == 1)\n",
        "\n",
        "print(f'Anzahl Patienten: {anzahl_patienten}')\n",
        "print(f'Anzahl bösartig: {anzahl_bösartig}')\n",
        "print(f'Anzahl gutartig: {anzahl_gutartig}')"
      ],
      "metadata": {
        "id": "vX_K7Lacxnm-"
      },
      "execution_count": null,
      "outputs": []
    },
    {
      "cell_type": "markdown",
      "source": [
        "Jede Patientin in dem Datensatz hat eine einzigartige Id. Mit dem untenstehenden Code können wir herausfinden ob Patientinnen im Datensatz einen gutartigen oder einen bösartigen Tumor hat. Kannst du für Patientin 40, 113,... auch herausfinden ob sie einen gutartigen oder bösartigen Tumor haben?  "
      ],
      "metadata": {
        "id": "i0GC8jewrSZb"
      }
    },
    {
      "cell_type": "code",
      "source": [
        "# Hat Patientin 50, 40, 113, .. einen gut- oder bösartigen Tumor?\n",
        "patientin_id = 50\n",
        "diagnose = diagnosen[patientin_id-1] # 49, weil in Python bei 0 angefangen wird\n",
        "\n",
        "if diagnose == 0:\n",
        "  print(f'Patientin {patientin_id} hat einen bösartigen Tumor.')\n",
        "else:\n",
        "  print(f'Patientin {patientin_id} hat einen gutartigen Tumor.')"
      ],
      "metadata": {
        "id": "wjg0prS7UQvg"
      },
      "execution_count": null,
      "outputs": []
    },
    {
      "cell_type": "markdown",
      "source": [
        "Um das Problem etwas einfacher zu gestalten werden wir nur die Daten verwenden die den Mittelwert aller Eigenschaften beinhalten. Führe dazu die untere Zeile aus:\n",
        "Kannst du 3 Eigenschaften erkennen?"
      ],
      "metadata": {
        "id": "vekaAeckoln3"
      }
    },
    {
      "cell_type": "code",
      "source": [
        "# hier wollen wir nur die  Durchschnittsfeature (mit mean gekennzeichnet) benutzen\n",
        "mean_feature_idx = [col for col in feature if col.startswith('mean')]\n",
        "feature_mean = feature[mean_feature_idx]\n",
        "\n",
        "feature_mean.head()"
      ],
      "metadata": {
        "id": "HbjkaMmxKFEU"
      },
      "execution_count": null,
      "outputs": []
    },
    {
      "cell_type": "markdown",
      "source": [
        "Bevor wir selbst Diagnosen stellen können sollten wir uns die Daten genauer Ansehen, z.B. den Radius:"
      ],
      "metadata": {
        "id": "F8vn05ucpQUJ"
      }
    },
    {
      "cell_type": "code",
      "source": [
        "# was ist der maximale Wert über das erste Feature 'mean radius'?\n",
        "max1 = np.max(feature['mean radius']) # das Ergebnis wird in der Variable max1 gespeichert\n",
        "min1 = np.min(feature['mean radius']) # das Ergebnis wird in der Variable min1 gespeichert\n",
        "mean1 = np.mean(feature['mean radius']) # das Ergebnis wird in der Variable mean1 gespeichert\n",
        "\n",
        "# wir wollen die Ergebnisse sehen\n",
        "print(f'Maximum des mean radius Features: {max1:.2f}')\n",
        "print(f'Minimum des mean radius Features:: {min1:.2f}')\n",
        "print(f'Mean des mean radius Features:: {mean1:.2f}')\n",
        "\n",
        "# wie häufig kommen die unterschiedlichen Radiuswerte vor? (Verteilung)\n",
        "plt.hist(feature['mean radius'])\n",
        "plt.title('Mean radius Verteilung')\n",
        "plt.xlabel('Mean Radius Wert')\n",
        "plt.ylabel('Häufigkeit')\n",
        "plt.show()"
      ],
      "metadata": {
        "id": "j0WNMEGCv1nv"
      },
      "execution_count": null,
      "outputs": []
    },
    {
      "cell_type": "markdown",
      "source": [
        "Kannst du eine ähnliche Statistik für die Fläche (*mean area*) anfertigen?"
      ],
      "metadata": {
        "id": "WvNxy4PlpdFv"
      }
    },
    {
      "cell_type": "code",
      "source": [
        "# füge hier die Analyse für mean area ein"
      ],
      "metadata": {
        "id": "OzjqmJzWpmem"
      },
      "execution_count": 18,
      "outputs": []
    },
    {
      "cell_type": "markdown",
      "source": [
        "#### Gruppenvergleiche\n",
        "Als nächstes wollen wir uns ansehen, ob die Tumor Merkmale sich  zwischen PatientInnen mit einem bösartigem Tumor und PatientInnen mit einem gutartigen Tumor im Durchschnitt unterscheiden. Dazu berechnen wir den Mittelwert für die Merkmale für jede der beiden Gruppen."
      ],
      "metadata": {
        "id": "p1ofUT5yTs0G"
      }
    },
    {
      "cell_type": "code",
      "source": [
        "# Gruppen Vergleiche des 'mean radius'\n",
        "mean_radius_bösartig = np.mean(feature['mean radius'][diagnosen == 0]) # Denk dran! Bösartige Tumore waren als '0' codiert\n",
        "mean_radius_gutartig = np.mean(feature['mean radius'][diagnosen == 1])\n",
        "\n",
        "print(f'Mittelwert des mean radius Features in der Gruppe mit bösartigen Tumoren: {mean_radius_bösartig:.2f}')\n",
        "print(f'Mittelwert des mean radius Features in der Gruppe mit gutartigen Tumoren: {mean_radius_gutartig:.2f}')\n",
        "\n",
        "# wie häufig kommen die unterschiedlichen Radiuswerte in den einzelnen Gruppen vor? (Verteilung)\n",
        "plt.hist(feature['mean radius'][diagnosen == 0], alpha = 0.5, label = 'bösartiger Tumor')\n",
        "plt.hist(feature['mean radius'][diagnosen == 1], alpha = 0.5, label = 'gutartiger Tumor')\n",
        "plt.title('Mean radius Verteilung für beide Gruppen')\n",
        "plt.xlabel('Mean Radius Wert')\n",
        "plt.ylabel('Häufigkeit')\n",
        "plt.legend(title='Diagnose')\n",
        "plt.show()"
      ],
      "metadata": {
        "id": "iH-_5BguUzoG"
      },
      "execution_count": null,
      "outputs": []
    },
    {
      "cell_type": "code",
      "source": [
        "# jetzt bist du dran! Schau dir die durchschnittlichen Unterschiede für andere Feature an"
      ],
      "metadata": {
        "id": "TcPOF9UoUloH"
      },
      "execution_count": 20,
      "outputs": []
    },
    {
      "cell_type": "markdown",
      "source": [
        "**Stop! Sehr gut, du hast den zweiten Teil erfolgreich beendet. Jetzt gehts erstmal mit ein paar Folien weiter.**\n",
        "\n",
        "![images.png](data:image/png;base64,iVBORw0KGgoAAAANSUhEUgAAAOEAAADhCAMAAAAJbSJIAAABI1BMVEX0vKMAAAD0vKX2vKH7wKT5v6b3vKPqvKILEg0ABgD2vqZtWVG6k34AAAejg3MTCxPbqZV1W08TGRK0jHy5jngACAy5loIpGxnrt6CUeWz8x63csJzyvaYVDQzCmIhCMi/+wZ7yvqBPPTc1LC1lUU2uhnszKibLpI6WgHmTd3H8waz/vqUKAAD3uqZ+ZV2FalvBlYrwv65RRkNmVki4iYCsjYDUqI4cGxsNEgAcHhBTRj2Nb2bovaoUAABnX1xKQT2OeWZyVlhZQDWJbVgzKCZINy7hraTas6b8zbr50a+iiHlZQ0MoJR70u66ylY0pIyagjIriw7fesZVxaGRXUkrFrKSCaWc5OzIpExeLd3BwVUoyLyuogWocDwApHhUQEh2EYFBKXwdlAAAL4UlEQVR4nO2djVvaSBrA82Y+UqMgLVuEZAgMRdHERIJL3ZNs7YctrhZ7az/utHt7+///FfcOYCvd9rl6FyJh5/c8Vg3B8dfJvPM9GoZGo9FoNBqNRqPRaDQajUaj0Wg0Go1Go9HcDtM07/pXmCH932fZDRljts0WCfXrpOdnGv1y+ccfywtG/zEJUzKUFqysrNyDQqHwcHFYgSLjKRkGJhwcwMpdK82w8tPfVopBSoKGYcGDw8oPC0V5sI6GIiVBbsG9VUbvOrh8wkboWmGlSNN6SieGJKWflgJYVbCxYVo/cNEMzaU3RLThLdGGpioZPK249l1kbEh4SKSUaSX3PWRsKJPEkiTTpzhbQ7tWh58j108rue8hW0OxBU+OYLdPJRmXRSFMTtJqT32DbA2dp/AsruzCqjW5hRCbLpch99/C8zhpQyOxVWAlSdSfd9jJ1tAkNII9ar2AK0fFG7YN4KaW+DfSzNbQaCYt6Er5DvqyaRroC9tLZhiEbgFclkA9ISZ3GoVC20kr8W+kmXWrTcoulsJmHyLbDBM4PDpeNkPDoDVoVf2X8ErScyj2dudcO2ZvaBJnDyK/CxFz9mHYg+Uz5IT1YOi0IHbrL0+WyRAbMOoTwTQfw/4vA+gU4dRZGkOC0DGMEGmfQcmDfgMs8WhjWSINZ05SKRb7/fNhbDc78GwIr6FGKzBYEkM5Ou/BNe1icgbnu/DIEm+gOue+VBaGRATycQtgtdjpeN5pdAbw8zv4ex3OxXOosZBjp39+81VZGDaFfV6A/fPz/iC6f3/QHf56fgzQg3tPHsHB6YXDKCXzm5LLwlCKah1mePl2+oW6vlXrxHbODSWtNdp7xYrXKZXc7ZVPoj03ftVvvwE48myeZ0OECUfYzGZ09AHFnjxEPRR9s+qdUJq8xx7GjpjXAFxWsdQcE8bv4N37D6+hAPdg+Fo9oqcWpaPhFuzPq+LPrk2DbRlTrMKTpwCtd3C4DRfbcBlhTrb7w/ikDZcpTkXfJMNWmyS2B/AR/rGWHMBwE9YsaJ9YfVVNtmrv34AVzuVBzbJdSuwiwPppMjqCc6cDm04b4mbTdvur47hzkXtDkxhxvyJksAkffGyubWIvKhFCGoGfnNdqFT//hgYJ1YB+vPLPkbS7E0M1xm9JEtq2COdTX2Q9M2OacgCbzMQiuem8AHf+A/zZG1brB8ycGEZgLaEh21FZODE8hDmPd4+TzHY00STx8QNV4Ow+lK1Ce05lbybNbA2F9OCpb3LDr4HXgSi1ZS7fJuN5CwPL3lBif9AfwK9t6MilMyQxHI3GhhFcwjO/uXRPKVaDtTiUGHCuAB7Fgi9dLMWs69ghUbF0o20JM4M1CxkbWscbwuBcrVQSdpNnsSojW0OC4dMnhvJCUZHJioVsDRnWgpkuUzAyX4sRgWunldZ3kvFKhR44WS8Jy9LQNJOPr+c8hv+VVDM1dOHtnGftv5JqxoY1mvV2kywNBfHgdJkNuWjuQGWZDYmglzCkGXR6Z8hyvNRkbyFpLrEhN+W73XnPh/6ZbA0bx9m0RW+SreHW1lIbYkl89BcwtMgS1xbacE5kbLjcsfQvEmmW2hBL4NFGnOmeJ0WmhnT152Ru62a+RaaGquW9pHk43nVMTYqGaaX03czZUMpQSlHtrJXL5W4piSChairfzGI4f8qcDcPQcX97/q/pOrbf30DxseVI0swwos7VkBhx8uLf0KtVHruu65Vr+1sAW6t99wQt00ryvzFXw6bf+R32LihlNueM2mEgknJ0jJZ73shnao8e4b6VVuJfZ66GoguNIb25Oc20bea45WdoefRhs4NZ21lL78iKrzJXw8B9MaLEuFEDjhcocupUveLV79PSOUor8a8zV0MZCjIbNtVSYI4fAXdE/KpTqWCEnfMGxDvdjz85nSOttL+BPnHglmjDO0Ab3hJteAcsumEoAyqoZUg75ERSW0wuhuoAKAMbt7YwWRgSaQRSNIU9PhlK8PDGYMniG1a9bsjlhdcVYdcrTS5WPEXXrHa7YfjYKwWSd7xuUK1U1CuVKs+RoUm7AB3pr8JPlgtQU+0D1p2296wKgOu0oeCqG+pOZ3q9cvMkilwYloILgHJQqkNN/aZ2Fx6OTVz1GmujkmSrsOGUdqeGN9tJi27IGeZTyY+gEVMXDZvCVAscoRsjKjNVHsK+ZBEaugXYVtfjm5uo8mE4AugzMjY0p4Y8DIPmtSEM6dTwN8o5n1nzmA/DGhzHwWdDDw2lwCjkXRueTgx3oajOaCI8b4bvj2HTD6eGGGlQzKNScnodaaDh3FeGAEVKpJzZrpkLww+wmxAyY3heRa4NV+6BO31KL9X13Bmu1DHPiDFjWMBHc+fa8KgHtamh4orlzVDpXMV8xhDGhqocYm1xtgmNt58N2zOd6lwYQg/qLp2JNDuVStm1p/VhCwvg8cTwbcUrd/JneDbEEBLM1haUMSGnho2TQ/xvmNYWyMxPyIVht9mC1mjW0DZNfm145GxODLG2YMYXk1u5MCzRPjZOqbuOrTYpSYhiHkaTUEWa8VPqCyyraPhQHYnMeZC7+rBErV2IfNUudWxfsLEhdpSanwzlKkwMNx0pbUHyZ0jRIL6ow8d2u33WQcOjdq/XkteGsXIdl8MGXu91aI4M1QYGfEDpObZML9anXYfr3lNSmdQWjbhpvVF9i8L0Bnpj19+iGwriNVpYUyRXjT+qz1uKRqfUmHxR7TReXjh7L+/7hNUaV85Fa3oD5XkyJI6PwYMzygR1HIc6sbCFQ33fbwqDOhQ/HG4Q5uNt+I8ivDnZs+iGhjAmx50Sw+QmmoZmGGIb1Zh8mCG+wPFLvM1QU84cvyEzMyELb/gJ0/hTTTe5YhrGn166eVduDP9XtOEtmYsh931qM6IORyGE2aquIzZ+wuhD8QqxHQe/U4elqTUt/hdrknJgKORgsDcYVJzADKUbDZghRSmKSiSu7RUZoW7Uuur7xPb28C68M8idYTianDLVGklub2MrhhPRwXab9BvY2WXnkz6hoNvTdoAzO6mcA0OzugGve0cAkSQMW29rTO1FhW7goKG06gXobWDvqrkNu0e93uEZm93RkQNDGw0jJ/4DPmL130BRxm2VhxQNVx1suJVj9wAOnR3YTWRsf7mDMy+GVFSgXmUX6mkVNw1rALbhP4eGvwNgfWXPUX4MPdh15Rq8hrpLZg0dO/DOPRsN3a8cnZ0Tww/KsH5B9+CyDh3GZp7S4olNfanOlU6wVvlyTWBODCOKmfXGYkdw2sJucPjZEPvG0CpbLAjRsN9dK1d5LiNNqxgBrAoBMBxA+7PhlXC8cV3SD4Lt8SAqdILZXMyJoWLDlR3YrfYxLz8bSuJXB8eq1+tjHtbr61AK4pm358TwYOtor8TpKbSoiwEleD813BfYYfJHPxZgn2Gk6VTdkupw3SQnhnvSpGZI2/CxdqkmS6/zcN9nkhLut8b1Yb5ri5HJQ2fyuMJb+tnQK5Zt4rehxXJu2DQJD0sAL5+3NmDLGc+vMTR01LwUZWfQUm2aalP1/GffnhdDKppmUIHdxzI+xbx6BTA4wRJ538cav3My3ID7ynAo4iRuzr49P4ZE/SWFY0fYrgqcLXV+bQEr/6Ea7cYn11PlUPHlKfa5MKyPDaVsQJuaQXUdngbVLWVTs62wPPaKmL1z3XvKXSw1RfHyB9skhth8WmHYOdyslW1uFaO9jkOwo+8OougHYZperbazs1MritzV+EQKdZKywUXsj//yTuzbkgjhxJMhRKwPfXxd2sJnjKnXZt6eB0NCgvH6cD45YcpES7WPIQgnU0xSSnVYtiSExyLmXwyX5sEQPeTEEIui2lDEpcpKPh7/xdfDgChD9b0aDRZm7sZp/k+04S3RhneANrwl2vAO0Ia3RBveActuaC674V/gr1bPx9CfLmtZEBwPUjQkFjxoRPcXi8OfHp7StHYbhwk8qK8/XF8sDiC9PDQwDxcQNEzvMMPSQpLqYYb2oqHWTafoZxjTP+20OKRrt4CG41WMGo1Go9FoNBqNRqPRaDQajUaj0Wg0Go1Go9EsG/8B0/3juDfgdrAAAAAASUVORK5CYII=)\n"
      ],
      "metadata": {
        "id": "b2c0NAXT4ZaQ"
      }
    },
    {
      "cell_type": "markdown",
      "source": [
        "### Klassifikationsmodelle\n"
      ],
      "metadata": {
        "id": "wmhdZEICJb4C"
      }
    },
    {
      "cell_type": "markdown",
      "source": [
        "Die Daten, die wir uns gerade angeschaut haben sind PatientInnen die in der Vergangenheit einen Tumor gehabt haben. Jetzt wollen wir herausfinden ob wir diese Daten nutzen können um auch für andere PatientInnen sagen zu können ob ihr Tumor gutartig oder bösartig ist. Lasse den *Preparation Teil* gern zugeklappt und führe ihn aus. Hier bereiten wir alle Daten vor die wir später benötigen.\n",
        "Ein Schritt, der hier durchgeführt wird, ist zum Beispiel, dass die Daten in ein Trainingset und ein Testset unterteilt werden, das wurde ja schon in der Präsentation besprochen.\n"
      ],
      "metadata": {
        "id": "lk0Nh7XTsbQH"
      }
    },
    {
      "cell_type": "markdown",
      "source": [
        "\n",
        "#### Datenaufbereitung\n"
      ],
      "metadata": {
        "id": "BxfGHDQUJiaO"
      }
    },
    {
      "cell_type": "markdown",
      "source": [
        "Dafür müssen wir unseren Datensatz in einen train und test Datensatz aufteilen:"
      ],
      "metadata": {
        "id": "43H6cCAhs0x4"
      }
    },
    {
      "cell_type": "code",
      "source": [
        "# train test split\n",
        "feature_train, feature_test, diagnosen_train, diagnosen_test = train_test_split(feature_mean, diagnosen, stratify= diagnosen, random_state=0)"
      ],
      "metadata": {
        "id": "_9pRirLeJjuN"
      },
      "execution_count": 31,
      "outputs": []
    },
    {
      "cell_type": "code",
      "source": [
        "feature_mean"
      ],
      "metadata": {
        "id": "8nHoUKfyRVQy"
      },
      "execution_count": null,
      "outputs": []
    },
    {
      "cell_type": "code",
      "source": [
        "# Skalier die Daten\n",
        "sc = StandardScaler()\n",
        "feature_train_scaled = sc.fit_transform(feature_train)\n",
        "feature_test_scaled = sc.transform(feature_test)\n"
      ],
      "metadata": {
        "id": "Bq4-mmjuKZh8"
      },
      "execution_count": 23,
      "outputs": []
    },
    {
      "cell_type": "markdown",
      "source": [
        "#### Model Training"
      ],
      "metadata": {
        "id": "IEPe6cIpTIEh"
      }
    },
    {
      "cell_type": "markdown",
      "source": [
        "Es gibt verschiedene Modelle, die nun die Diagnose stellen können. Wir wollen nun 3 von diesen vergleichen um festzustellen welche am Besten funktionieren:\n",
        "- Decision Trees\n",
        "- Random Forest\n",
        "- Logistic Regression"
      ],
      "metadata": {
        "id": "9hjYrk8ds_A9"
      }
    },
    {
      "cell_type": "code",
      "source": [
        "# Model 1: Decision Tree\n",
        "dt = DecisionTreeClassifier(max_depth = 2, random_state = 0)\n",
        "\n",
        "dt.fit(feature_train_scaled, diagnosen_train)\n",
        "\n",
        "dt_vorhersagen = dt.predict(feature_test_scaled)"
      ],
      "metadata": {
        "id": "vUgGSzZSymHG"
      },
      "execution_count": 24,
      "outputs": []
    },
    {
      "cell_type": "markdown",
      "source": [
        "In der folgenden Zelle werden wir einen Entscheidungsbaum zeichnen und die Eigenschaften und uns ansehen welche Eigenschaften wichtig sind. Welche Eigenschaften sind im Entscheidungsbaum wichtig und wie groß dürfen sie sein?"
      ],
      "metadata": {
        "id": "Xb5iGcjiJQPg"
      }
    },
    {
      "cell_type": "code",
      "source": [
        "plot_tree(dt)"
      ],
      "metadata": {
        "id": "3celWgUDOAha"
      },
      "execution_count": null,
      "outputs": []
    },
    {
      "cell_type": "code",
      "source": [
        "print(f'Feature with index 7: {feature_mean.columns[7]}')\n",
        "print(f'Feature with index 0: {feature_mean.columns[0]}')\n",
        "print(f'Feature with index 1: {feature_mean.columns[1]}')"
      ],
      "metadata": {
        "id": "RFpkvvzPwLxm"
      },
      "execution_count": null,
      "outputs": []
    },
    {
      "cell_type": "markdown",
      "source": [
        "Wir definieren auch die anderen beiden Modelle: Random Forest und Logistic Regression. Führe hierfür die unteren beiden Zellen aus:"
      ],
      "metadata": {
        "id": "lCZIc6KfJOef"
      }
    },
    {
      "cell_type": "code",
      "source": [
        "# Model 2: Random Forest\n",
        "rf = RandomForestClassifier(n_estimators = 10, criterion = 'gini', random_state = 0)\n",
        "\n",
        "rf.fit(feature_train_scaled, diagnosen_train)\n",
        "\n",
        "rf_vorhersagen = rf.predict(feature_test_scaled)"
      ],
      "metadata": {
        "id": "S0oBG7AfK2EW"
      },
      "execution_count": 27,
      "outputs": []
    },
    {
      "cell_type": "code",
      "source": [
        "# Model 3: Logistic Regression\n",
        "lr = LogisticRegression()\n",
        "\n",
        "lr.fit(feature_train_scaled, diagnosen_train)\n",
        "\n",
        "lr_vorhersagen = lr.predict(feature_test_scaled)"
      ],
      "metadata": {
        "id": "IrPBSrlMK-6Q"
      },
      "execution_count": 28,
      "outputs": []
    },
    {
      "cell_type": "markdown",
      "source": [
        "#### Model Evaluation"
      ],
      "metadata": {
        "id": "DTbDX6652oN0"
      }
    },
    {
      "cell_type": "markdown",
      "source": [
        "Jetzt können wir die Modelle vergleichen. Dafür visualisieren wir für jedes Modell eine sogenannte *Confusion Matrix*. Wie viele bösartige Tumore wurden mit den *Decision Tree* richtig erkannt? Wie viele gutartige? Wie vielen PatientInnen mit bösartigen Tumor wurde ein gutartiger Tumor diagnostiziert? Führe auch die anderen Zellen aus um für die anderen beiden Modelle die Confusion Matrix zu sehen."
      ],
      "metadata": {
        "id": "VVPKw2n0J4zu"
      }
    },
    {
      "cell_type": "code",
      "source": [
        "# Model 1: Decision Tree\n",
        "dt_cm = confusion_matrix(diagnosen_test, dt_vorhersagen)\n",
        "disp = ConfusionMatrixDisplay(confusion_matrix = dt_cm,display_labels=dt.classes_)\n",
        "disp.plot()\n",
        "plt.show()\n",
        "\n",
        "dt_accuracy = accuracy_score(diagnosen_test, dt_vorhersagen)\n",
        "print(f'Accuracy decision tree: {dt_accuracy*100:.2f}%')"
      ],
      "metadata": {
        "id": "D8cH3GqjyrK4"
      },
      "execution_count": null,
      "outputs": []
    },
    {
      "cell_type": "code",
      "source": [
        "# Model 2: Random Forest\n",
        "rf_cm = confusion_matrix(diagnosen_test, rf_vorhersagen)\n",
        "disp = ConfusionMatrixDisplay(confusion_matrix = rf_cm, display_labels=rf.classes_)\n",
        "disp.plot()\n",
        "plt.show()\n",
        "\n",
        "rf_accuracy = accuracy_score(diagnosen_test, rf_vorhersagen)\n",
        "print(f'Accuracy random forest: {rf_accuracy*100:.2f}%')"
      ],
      "metadata": {
        "id": "i0YbC59rMTDc"
      },
      "execution_count": null,
      "outputs": []
    },
    {
      "cell_type": "code",
      "source": [
        "# Model 3: Logistic Regression\n",
        "lr_cm = confusion_matrix(diagnosen_test, lr_vorhersagen)\n",
        "disp = ConfusionMatrixDisplay(confusion_matrix = lr_cm,display_labels=lr.classes_)\n",
        "disp.plot()\n",
        "plt.show()\n",
        "\n",
        "lr_accuracy = accuracy_score(diagnosen_test, lr_vorhersagen)\n",
        "print(f'Accuracy logistic regression: {lr_accuracy*100:.2f}%')"
      ],
      "metadata": {
        "id": "YPKdq0Q3MXj2"
      },
      "execution_count": null,
      "outputs": []
    },
    {
      "cell_type": "markdown",
      "source": [
        "Welches ist das beste Modell basierend auf der *Accuracy*? Füge 'lr', 'dt' oder 'rf' in die untenstehende Zelle ein."
      ],
      "metadata": {
        "id": "kIIruJ32K9RC"
      }
    },
    {
      "cell_type": "code",
      "source": [
        "#TODO füge bestes Modell ein\n",
        "best_model = '' # 'dt', 'lr', 'rf'"
      ],
      "metadata": {
        "id": "cvlvkIJnQg4x"
      },
      "execution_count": 35,
      "outputs": []
    },
    {
      "cell_type": "markdown",
      "source": [
        "**Stop! Sehr gut, du hast den dritten Teil erfolgreich beendet. Jetzt gehts erstmal mit ein paar Folien weiter.**\n",
        "\n",
        "![images.png](data:image/png;base64,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)"
      ],
      "metadata": {
        "id": "J00pFdejLW69"
      }
    },
    {
      "cell_type": "markdown",
      "source": [
        "### Diagnose unserer Patientinnen\n",
        "\n",
        "Jetzt wollen wir unser trainiertes Modell in der Praxis anwenden. Bei Anna sind alle notwendigen Messwerte bereits vorhanden. Kannst du für sie die Wahrscheinlichkeit berechnen, dass ihr Tumor bösartig ist?"
      ],
      "metadata": {
        "id": "8EtN-nI3TADw"
      }
    },
    {
      "cell_type": "code",
      "source": [
        "name_patient1 = 'Anna'\n",
        "patient1 = pd.DataFrame({'mean radius': [15],\n",
        "                         'mean texture': [1],\n",
        "                         'mean perimeter': [20],\n",
        "                         'mean area': [1500],\n",
        "                         'mean smoothness': [0.2],\n",
        "                         'mean compactness': [0.01],\n",
        "                         'mean concavity': [0.2],\n",
        "                         'mean concave points': [0.11],\n",
        "                         'mean symmetry': [0.1],\n",
        "                         'mean fractal dimension': [0.08]\n",
        "                         })"
      ],
      "metadata": {
        "id": "wPUMDOcyPaE_"
      },
      "execution_count": 36,
      "outputs": []
    },
    {
      "cell_type": "code",
      "source": [
        "# Datenaufbereitung: Skalieren\n",
        "patient1_skaliert = sc.transform(patient1)"
      ],
      "metadata": {
        "id": "nk-zKiv_68dO"
      },
      "execution_count": 37,
      "outputs": []
    },
    {
      "cell_type": "code",
      "source": [
        "if best_model == 'dt':\n",
        "  patient1_proba = dt.predict_proba(patient1_skaliert)\n",
        "elif best_model == 'rf':\n",
        "  patient1_proba = rf.predict_proba(patient1_skaliert)\n",
        "else:\n",
        "  patient1_proba = lr.predict_proba(patient1_skaliert)"
      ],
      "metadata": {
        "id": "jntr-s6CNzhp"
      },
      "execution_count": 38,
      "outputs": []
    },
    {
      "cell_type": "code",
      "source": [
        "print(f'{name_patient1} hat mit {patient1_proba[0][0]*100:.2f}% Wahrscheinlichkeit einen bösartigen Tumor')"
      ],
      "metadata": {
        "id": "MY9TwHLPO1AR"
      },
      "execution_count": null,
      "outputs": []
    },
    {
      "cell_type": "markdown",
      "source": [
        "Anhand der ausgegebenen Wahrscheinlichkeit des Machine Learing Modells, kann die behandelnde Ärztin weitere Tests veranlassen!"
      ],
      "metadata": {
        "id": "JYY8nZmgSu_u"
      }
    },
    {
      "cell_type": "markdown",
      "source": [
        "Bei Marie fehlen einige Angaben. Kannst du sie aus ihrem Steckbrief auffüllen?\n",
        "\n",
        "---\n",
        "\n"
      ],
      "metadata": {
        "id": "OK1KdUfKzkoZ"
      }
    },
    {
      "cell_type": "code",
      "source": [
        "name_patient2 = 'Marie'\n",
        "patient2 = pd.DataFrame({'mean radius': [],\n",
        "                         'mean texture': [0.124],\n",
        "                         'mean perimeter': [],\n",
        "                         'mean area': [],\n",
        "                         'mean smoothness': [0.05],\n",
        "                         'mean compactness': [0.007],\n",
        "                         'mean concavity': [0.234],\n",
        "                         'mean concave points': [],\n",
        "                         'mean symmetry': [],\n",
        "                         'mean fractal dimension': [0.02]\n",
        "                         })"
      ],
      "metadata": {
        "id": "jieFdt_Dh2Ms"
      },
      "execution_count": null,
      "outputs": []
    },
    {
      "cell_type": "code",
      "source": [
        "# preparation: skalieren\n",
        "# Skalier die Daten\n",
        "patient2_skaliert = sc.transform(patient2)"
      ],
      "metadata": {
        "id": "Ofg1UencvqqU"
      },
      "execution_count": null,
      "outputs": []
    },
    {
      "cell_type": "code",
      "source": [
        "if best_model == 'dt':\n",
        "  patient2_proba = dt.predict_proba(patient2_skaliert)\n",
        "elif best_model == 'rf':\n",
        "  patient2_proba = rf.predict_proba(patient2_skaliert)\n",
        "else:\n",
        "  patient2_proba = lr.predict_proba(patient2_skaliert)"
      ],
      "metadata": {
        "id": "KLNQbrVwvqc9"
      },
      "execution_count": null,
      "outputs": []
    },
    {
      "cell_type": "code",
      "source": [
        "print(f'{name_patient2} hat mit {patient2_proba[0][0]*100:.2f}% Wahrscheinlichkeit einen bösartigen Tumor')"
      ],
      "metadata": {
        "id": "uICfJnZYu4gT"
      },
      "execution_count": null,
      "outputs": []
    },
    {
      "cell_type": "markdown",
      "source": [
        "Was würdest du ihrem Arzt raten?"
      ],
      "metadata": {
        "id": "qA7oUa3s162d"
      }
    },
    {
      "cell_type": "markdown",
      "source": [
        "Du bist neugierig und möchtest einmal spielerisch die Ergebnisse des Algorithmus erforschen. Kannst du eine fiktive PatientIn generieren, bei der die Wahrscheinlichkeit für einen bösartigen Tumor bei ungefähr 75% liegt?\n",
        "Wir haben den Code so weit vorbereitet, dass du nur noch die Werte einfügen musst und die darauffolgenden Codezeilen laufen lassen muss. **Achtung**: Vergiss nicht, dass du folgenden vier Codefelder bei **jeder Änderung** der Daten noch einmal durchlaufen lassen musst.   \n"
      ],
      "metadata": {
        "id": "x0gSmhvJ-C-N"
      }
    },
    {
      "cell_type": "code",
      "source": [
        "name_patient3 = 'Fiktive_PatientIn'\n",
        "patient3 = pd.DataFrame({'mean radius': [],\n",
        "                         'mean texture': [],\n",
        "                         'mean perimeter': [],\n",
        "                         'mean area': [],\n",
        "                         'mean smoothness': [],\n",
        "                         'mean compactness': [],\n",
        "                         'mean concavity': [],\n",
        "                         'mean concave points': [],\n",
        "                         'mean symmetry': [],\n",
        "                         'mean fractal dimension': []\n",
        "                         })"
      ],
      "metadata": {
        "id": "Jvj1QS3lCJ-T"
      },
      "execution_count": null,
      "outputs": []
    },
    {
      "cell_type": "code",
      "source": [
        "# preparation: skalieren\n",
        "# Skalier die Daten\n",
        "patient3_skaliert = sc.transform(patient3)"
      ],
      "metadata": {
        "id": "nbvO7sWaCLHl"
      },
      "execution_count": null,
      "outputs": []
    },
    {
      "cell_type": "code",
      "source": [
        "if best_model == 'dt':\n",
        "  patient3_proba = dt.predict_proba(patient3_skaliert)\n",
        "elif best_model == 'rf':\n",
        "  patient3_proba = rf.predict_proba(patient3_skaliert)\n",
        "else:\n",
        "  patient3_proba = lr.predict_proba(patient3_skaliert)"
      ],
      "metadata": {
        "id": "r9czTVUCCLjc"
      },
      "execution_count": null,
      "outputs": []
    },
    {
      "cell_type": "code",
      "source": [
        "print(f'{name_patient3} hat mit {patient3_proba[0][0]*100:.2f}% Wahrscheinlichkeit einen bösartigen Tumor')"
      ],
      "metadata": {
        "id": "tqkDjpysFeEg"
      },
      "execution_count": null,
      "outputs": []
    },
    {
      "cell_type": "markdown",
      "source": [
        "**Sehr gut! Du bist am Ende des Workshops angekommen! Jetzt geht es nochmal kurz mit ein paar Abschlussfolien weiter.**\n",
        "\n",
        "![images.png](data:image/png;base64,iVBORw0KGgoAAAANSUhEUgAAAOEAAADhCAMAAAAJbSJIAAABI1BMVEX0vKMAAAD0vKX2vKH7wKT5v6b3vKPqvKILEg0ABgD2vqZtWVG6k34AAAejg3MTCxPbqZV1W08TGRK0jHy5jngACAy5loIpGxnrt6CUeWz8x63csJzyvaYVDQzCmIhCMi/+wZ7yvqBPPTc1LC1lUU2uhnszKibLpI6WgHmTd3H8waz/vqUKAAD3uqZ+ZV2FalvBlYrwv65RRkNmVki4iYCsjYDUqI4cGxsNEgAcHhBTRj2Nb2bovaoUAABnX1xKQT2OeWZyVlhZQDWJbVgzKCZINy7hraTas6b8zbr50a+iiHlZQ0MoJR70u66ylY0pIyagjIriw7fesZVxaGRXUkrFrKSCaWc5OzIpExeLd3BwVUoyLyuogWocDwApHhUQEh2EYFBKXwdlAAAL4UlEQVR4nO2djVvaSBrA82Y+UqMgLVuEZAgMRdHERIJL3ZNs7YctrhZ7az/utHt7+///FfcOYCvd9rl6FyJh5/c8Vg3B8dfJvPM9GoZGo9FoNBqNRqPRaDQajUaj0Wg0Go1Go9HcDtM07/pXmCH932fZDRljts0WCfXrpOdnGv1y+ccfywtG/zEJUzKUFqysrNyDQqHwcHFYgSLjKRkGJhwcwMpdK82w8tPfVopBSoKGYcGDw8oPC0V5sI6GIiVBbsG9VUbvOrh8wkboWmGlSNN6SieGJKWflgJYVbCxYVo/cNEMzaU3RLThLdGGpioZPK249l1kbEh4SKSUaSX3PWRsKJPEkiTTpzhbQ7tWh58j108rue8hW0OxBU+OYLdPJRmXRSFMTtJqT32DbA2dp/AsruzCqjW5hRCbLpch99/C8zhpQyOxVWAlSdSfd9jJ1tAkNII9ar2AK0fFG7YN4KaW+DfSzNbQaCYt6Er5DvqyaRroC9tLZhiEbgFclkA9ISZ3GoVC20kr8W+kmXWrTcoulsJmHyLbDBM4PDpeNkPDoDVoVf2X8ErScyj2dudcO2ZvaBJnDyK/CxFz9mHYg+Uz5IT1YOi0IHbrL0+WyRAbMOoTwTQfw/4vA+gU4dRZGkOC0DGMEGmfQcmDfgMs8WhjWSINZ05SKRb7/fNhbDc78GwIr6FGKzBYEkM5Ou/BNe1icgbnu/DIEm+gOue+VBaGRATycQtgtdjpeN5pdAbw8zv4ex3OxXOosZBjp39+81VZGDaFfV6A/fPz/iC6f3/QHf56fgzQg3tPHsHB6YXDKCXzm5LLwlCKah1mePl2+oW6vlXrxHbODSWtNdp7xYrXKZXc7ZVPoj03ftVvvwE48myeZ0OECUfYzGZ09AHFnjxEPRR9s+qdUJq8xx7GjpjXAFxWsdQcE8bv4N37D6+hAPdg+Fo9oqcWpaPhFuzPq+LPrk2DbRlTrMKTpwCtd3C4DRfbcBlhTrb7w/ikDZcpTkXfJMNWmyS2B/AR/rGWHMBwE9YsaJ9YfVVNtmrv34AVzuVBzbJdSuwiwPppMjqCc6cDm04b4mbTdvur47hzkXtDkxhxvyJksAkffGyubWIvKhFCGoGfnNdqFT//hgYJ1YB+vPLPkbS7E0M1xm9JEtq2COdTX2Q9M2OacgCbzMQiuem8AHf+A/zZG1brB8ycGEZgLaEh21FZODE8hDmPd4+TzHY00STx8QNV4Ow+lK1Ce05lbybNbA2F9OCpb3LDr4HXgSi1ZS7fJuN5CwPL3lBif9AfwK9t6MilMyQxHI3GhhFcwjO/uXRPKVaDtTiUGHCuAB7Fgi9dLMWs69ghUbF0o20JM4M1CxkbWscbwuBcrVQSdpNnsSojW0OC4dMnhvJCUZHJioVsDRnWgpkuUzAyX4sRgWunldZ3kvFKhR44WS8Jy9LQNJOPr+c8hv+VVDM1dOHtnGftv5JqxoY1mvV2kywNBfHgdJkNuWjuQGWZDYmglzCkGXR6Z8hyvNRkbyFpLrEhN+W73XnPh/6ZbA0bx9m0RW+SreHW1lIbYkl89BcwtMgS1xbacE5kbLjcsfQvEmmW2hBL4NFGnOmeJ0WmhnT152Ru62a+RaaGquW9pHk43nVMTYqGaaX03czZUMpQSlHtrJXL5W4piSChairfzGI4f8qcDcPQcX97/q/pOrbf30DxseVI0swwos7VkBhx8uLf0KtVHruu65Vr+1sAW6t99wQt00ryvzFXw6bf+R32LihlNueM2mEgknJ0jJZ73shnao8e4b6VVuJfZ66GoguNIb25Oc20bea45WdoefRhs4NZ21lL78iKrzJXw8B9MaLEuFEDjhcocupUveLV79PSOUor8a8zV0MZCjIbNtVSYI4fAXdE/KpTqWCEnfMGxDvdjz85nSOttL+BPnHglmjDO0Ab3hJteAcsumEoAyqoZUg75ERSW0wuhuoAKAMbt7YwWRgSaQRSNIU9PhlK8PDGYMniG1a9bsjlhdcVYdcrTS5WPEXXrHa7YfjYKwWSd7xuUK1U1CuVKs+RoUm7AB3pr8JPlgtQU+0D1p2296wKgOu0oeCqG+pOZ3q9cvMkilwYloILgHJQqkNN/aZ2Fx6OTVz1GmujkmSrsOGUdqeGN9tJi27IGeZTyY+gEVMXDZvCVAscoRsjKjNVHsK+ZBEaugXYVtfjm5uo8mE4AugzMjY0p4Y8DIPmtSEM6dTwN8o5n1nzmA/DGhzHwWdDDw2lwCjkXRueTgx3oajOaCI8b4bvj2HTD6eGGGlQzKNScnodaaDh3FeGAEVKpJzZrpkLww+wmxAyY3heRa4NV+6BO31KL9X13Bmu1DHPiDFjWMBHc+fa8KgHtamh4orlzVDpXMV8xhDGhqocYm1xtgmNt58N2zOd6lwYQg/qLp2JNDuVStm1p/VhCwvg8cTwbcUrd/JneDbEEBLM1haUMSGnho2TQ/xvmNYWyMxPyIVht9mC1mjW0DZNfm145GxODLG2YMYXk1u5MCzRPjZOqbuOrTYpSYhiHkaTUEWa8VPqCyyraPhQHYnMeZC7+rBErV2IfNUudWxfsLEhdpSanwzlKkwMNx0pbUHyZ0jRIL6ow8d2u33WQcOjdq/XkteGsXIdl8MGXu91aI4M1QYGfEDpObZML9anXYfr3lNSmdQWjbhpvVF9i8L0Bnpj19+iGwriNVpYUyRXjT+qz1uKRqfUmHxR7TReXjh7L+/7hNUaV85Fa3oD5XkyJI6PwYMzygR1HIc6sbCFQ33fbwqDOhQ/HG4Q5uNt+I8ivDnZs+iGhjAmx50Sw+QmmoZmGGIb1Zh8mCG+wPFLvM1QU84cvyEzMyELb/gJ0/hTTTe5YhrGn166eVduDP9XtOEtmYsh931qM6IORyGE2aquIzZ+wuhD8QqxHQe/U4elqTUt/hdrknJgKORgsDcYVJzADKUbDZghRSmKSiSu7RUZoW7Uuur7xPb28C68M8idYTianDLVGklub2MrhhPRwXab9BvY2WXnkz6hoNvTdoAzO6mcA0OzugGve0cAkSQMW29rTO1FhW7goKG06gXobWDvqrkNu0e93uEZm93RkQNDGw0jJ/4DPmL130BRxm2VhxQNVx1suJVj9wAOnR3YTWRsf7mDMy+GVFSgXmUX6mkVNw1rALbhP4eGvwNgfWXPUX4MPdh15Rq8hrpLZg0dO/DOPRsN3a8cnZ0Tww/KsH5B9+CyDh3GZp7S4olNfanOlU6wVvlyTWBODCOKmfXGYkdw2sJucPjZEPvG0CpbLAjRsN9dK1d5LiNNqxgBrAoBMBxA+7PhlXC8cV3SD4Lt8SAqdILZXMyJoWLDlR3YrfYxLz8bSuJXB8eq1+tjHtbr61AK4pm358TwYOtor8TpKbSoiwEleD813BfYYfJHPxZgn2Gk6VTdkupw3SQnhnvSpGZI2/CxdqkmS6/zcN9nkhLut8b1Yb5ri5HJQ2fyuMJb+tnQK5Zt4rehxXJu2DQJD0sAL5+3NmDLGc+vMTR01LwUZWfQUm2aalP1/GffnhdDKppmUIHdxzI+xbx6BTA4wRJ538cav3My3ID7ynAo4iRuzr49P4ZE/SWFY0fYrgqcLXV+bQEr/6Ea7cYn11PlUPHlKfa5MKyPDaVsQJuaQXUdngbVLWVTs62wPPaKmL1z3XvKXSw1RfHyB9skhth8WmHYOdyslW1uFaO9jkOwo+8OougHYZperbazs1MritzV+EQKdZKywUXsj//yTuzbkgjhxJMhRKwPfXxd2sJnjKnXZt6eB0NCgvH6cD45YcpES7WPIQgnU0xSSnVYtiSExyLmXwyX5sEQPeTEEIui2lDEpcpKPh7/xdfDgChD9b0aDRZm7sZp/k+04S3RhneANrwl2vAO0Ia3RBveActuaC674V/gr1bPx9CfLmtZEBwPUjQkFjxoRPcXi8OfHp7StHYbhwk8qK8/XF8sDiC9PDQwDxcQNEzvMMPSQpLqYYb2oqHWTafoZxjTP+20OKRrt4CG41WMGo1Go9FoNBqNRqPRaDQajUaj0Wg0Go1Go9EsG/8B0/3juDfgdrAAAAAASUVORK5CYII=)"
      ],
      "metadata": {
        "id": "UgCIjV3YbRPJ"
      }
    },
    {
      "cell_type": "markdown",
      "source": [
        "### Extra: Welche Feature waren besonders wichtig für die Entscheidung der Modelle?\n",
        "\n",
        "Wenn du besonders schnell mit den vorherigen Aufgaben warst, kannst du dir noch ansehen, welche unserer Feature besonders wichtig für die Entscheidung der einzelnen Modelle war. Das ist eine weitere Anwendung, wie KI in der medizinischen Forschung eingesetzt werden kann. KI kann den ForscherInnen helfen die Krankheit besser zu verstehen."
      ],
      "metadata": {
        "id": "AlXMHxlA6S9m"
      }
    },
    {
      "cell_type": "code",
      "source": [
        "dt_feature_importance = pd.DataFrame({'Feature': feature_mean.columns, 'Importance': np.abs(dt.feature_importances_)})\n",
        "dt_feature_importance = dt_feature_importance.sort_values('Importance', ascending=True)\n",
        "dt_feature_importance.plot(x='Feature', y='Importance', kind='barh', figsize=(10, 6))"
      ],
      "metadata": {
        "id": "1GysXlmv2Hyv"
      },
      "execution_count": null,
      "outputs": []
    },
    {
      "cell_type": "code",
      "source": [
        "rf_feature_importance = pd.DataFrame({'Feature': feature_mean.columns, 'Importance': np.abs(rf.feature_importances_)})\n",
        "rf_feature_importance = rf_feature_importance.sort_values('Importance', ascending=True)\n",
        "rf_feature_importance.plot(x='Feature', y='Importance', kind='barh', figsize=(10, 6))"
      ],
      "metadata": {
        "id": "RqmlJMVWw9k5"
      },
      "execution_count": null,
      "outputs": []
    },
    {
      "cell_type": "code",
      "source": [
        "coefficients = lr.coef_[0]\n",
        "\n",
        "feature_importance = pd.DataFrame({'Feature': feature_mean.columns, 'Importance': np.abs(coefficients)})\n",
        "feature_importance = feature_importance.sort_values('Importance', ascending=True)\n",
        "feature_importance.plot(x='Feature', y='Importance', kind='barh', figsize=(10, 6))"
      ],
      "metadata": {
        "id": "lE0eyFLaxqC3"
      },
      "execution_count": null,
      "outputs": []
    }
  ]
}